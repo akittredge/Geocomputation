{
 "cells": [
  {
   "cell_type": "markdown",
   "id": "491d9b98",
   "metadata": {},
   "source": [
    "__Andrew Kittredge__ <br>\n",
    "__GTECH 731__ <br>\n",
    "__Assignment 1__"
   ]
  },
  {
   "cell_type": "markdown",
   "id": "60750a87",
   "metadata": {},
   "source": [
    "__Task 1:__ Get the Python version on your computer"
   ]
  },
  {
   "cell_type": "code",
   "execution_count": 1,
   "id": "05ad8d73",
   "metadata": {},
   "outputs": [
    {
     "name": "stdout",
     "output_type": "stream",
     "text": [
      "3.11.0\n"
     ]
    }
   ],
   "source": [
    "import platform\n",
    "print(platform.python_version())"
   ]
  },
  {
   "cell_type": "markdown",
   "id": "e1362074",
   "metadata": {},
   "source": [
    "__Task 2:__ Write Python code to do the following:\n",
    "- Generate a list of random numbers using _random_ module in Python\n",
    "- Calculate the mean value for the list by looping through its elements\n",
    "- Calculate the variance of the list"
   ]
  },
  {
   "cell_type": "code",
   "execution_count": 3,
   "id": "85f88f6d",
   "metadata": {},
   "outputs": [
    {
     "name": "stdout",
     "output_type": "stream",
     "text": [
      "[23, 2, 22, 17, 3, 0, 12, 14, 20, 18]\n"
     ]
    }
   ],
   "source": [
    "# Generate a list of random numbers using random\n",
    "from random import seed, sample\n",
    "seed(731)\n",
    "numberList_1 = sample(range(0, 25, 1), 10)\n",
    "print(numberList)"
   ]
  },
  {
   "cell_type": "code",
   "execution_count": 4,
   "id": "6b8d4377",
   "metadata": {},
   "outputs": [
    {
     "name": "stdout",
     "output_type": "stream",
     "text": [
      "13.1\n"
     ]
    }
   ],
   "source": [
    "# Calculate the mean of the list by looping through its elements\n",
    "def listMean(numberList):\n",
    "    sum = 0\n",
    "    for i in numberList:\n",
    "        sum = sum + i\n",
    "    mean = sum / len(numberList)\n",
    "    print(mean)\n",
    "listMean(numberList_1)\n",
    "    "
   ]
  },
  {
   "cell_type": "code",
   "execution_count": 6,
   "id": "ddb291cf",
   "metadata": {},
   "outputs": [
    {
     "name": "stdout",
     "output_type": "stream",
     "text": [
      "66.28999999999999\n"
     ]
    }
   ],
   "source": [
    "# Calculate the variance of the list\n",
    "def listVar(numberList):\n",
    "    sum = 0\n",
    "    for i in numberList:\n",
    "        sum = sum + i\n",
    "    mean = sum / len(numberList)\n",
    "    sum_of_squares = 0\n",
    "    for i in numberList:\n",
    "        sum_of_squares = sum_of_squares + ((i - mean)**2)\n",
    "    var = sum_of_squares / len(numberList)\n",
    "    print(var)\n",
    "listVar(numberList_1)\n",
    "    "
   ]
  }
 ],
 "metadata": {
  "kernelspec": {
   "display_name": "Python 3 (ipykernel)",
   "language": "python",
   "name": "python3"
  },
  "language_info": {
   "codemirror_mode": {
    "name": "ipython",
    "version": 3
   },
   "file_extension": ".py",
   "mimetype": "text/x-python",
   "name": "python",
   "nbconvert_exporter": "python",
   "pygments_lexer": "ipython3",
   "version": "3.11.0"
  }
 },
 "nbformat": 4,
 "nbformat_minor": 5
}
