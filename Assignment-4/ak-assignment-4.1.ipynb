{
 "cells": [
  {
   "attachments": {},
   "cell_type": "markdown",
   "metadata": {},
   "source": [
    "__Andrew Kittredge <br>\n",
    "GTECH 731 <br>\n",
    "Assignment 4__"
   ]
  },
  {
   "attachments": {},
   "cell_type": "markdown",
   "metadata": {},
   "source": [
    "__Task 1:__ Following the example code, add Triangle class.\n",
    "- Write testing code to verify code works as expected\n",
    "- Options for defining triange:\n",
    "    - Use single side attribute to create equilateral triangle\n",
    "    - Use coordinates to define triange"
   ]
  },
  {
   "cell_type": "code",
   "execution_count": 1,
   "metadata": {},
   "outputs": [],
   "source": [
    "import math as mth\n",
    "import random"
   ]
  },
  {
   "attachments": {},
   "cell_type": "markdown",
   "metadata": {},
   "source": [
    "\n",
    "Set up a Geom class for all geometric figures which all know their name and color\n"
   ]
  },
  {
   "cell_type": "code",
   "execution_count": 2,
   "metadata": {},
   "outputs": [],
   "source": [
    "class Geom():\n",
    "  geomType = 'Generic Geometry Type'\n",
    "  \n",
    "  # Constructor of the class: used to initialize an object\n",
    "  def __init__(self):\n",
    "    # Check out the names and the faker packages for random names\n",
    "    self.name = random.choice(['Bill','Sally','Tamica','Josh','Lammar','Hussain'])\n",
    "    self.color = random.choice(['BLUE', 'RED', 'PURPLE'])\n",
    "  \n",
    "  # This is a method that all children will inherit. \n",
    "  # In other words, all children will have this method without explicitly defining it. \n",
    "  def print_name(self):\n",
    "    print('My name is ',self.name, 'and my color is ',self.color)\n",
    "\n",
    "  # Another method: why we can call self.area without defining it here?\n",
    "  def makeString(self):\n",
    "    return f\"Name: {self.name}, Color: {self.color}, Area: {self.area()}\"\n",
    "\n"
   ]
  },
  {
   "attachments": {},
   "cell_type": "markdown",
   "metadata": {},
   "source": [
    "Now create subclasses of the geometry types:"
   ]
  },
  {
   "cell_type": "code",
   "execution_count": 3,
   "metadata": {},
   "outputs": [],
   "source": [
    "class Circle(Geom):\n",
    "  \n",
    "  def __init__ (self,radius):\n",
    "    self.radius = radius\n",
    "    super().__init__()\n",
    "\n",
    "  # area method  \n",
    "  def area(self):\n",
    "     return mth.pi * self.radius **2"
   ]
  },
  {
   "cell_type": "code",
   "execution_count": 4,
   "metadata": {},
   "outputs": [],
   "source": [
    "class Square(Geom):\n",
    "  \n",
    "  def __init__ (self,side):\n",
    "    self.side = side\n",
    "    super().__init__()\n",
    "  # area method  \n",
    "  def area(self):\n",
    "     return self.side **2"
   ]
  },
  {
   "attachments": {},
   "cell_type": "markdown",
   "metadata": {},
   "source": [
    "Now create an instance of a square:"
   ]
  },
  {
   "cell_type": "code",
   "execution_count": 5,
   "metadata": {},
   "outputs": [
    {
     "name": "stdout",
     "output_type": "stream",
     "text": [
      "My name is  Bill and my color is  BLUE\n",
      "My area is  64\n"
     ]
    }
   ],
   "source": [
    "side = 8\n",
    "my_square = Square(side)\n",
    "my_square.print_name()\n",
    "print('My area is ',my_square.area())"
   ]
  },
  {
   "cell_type": "code",
   "execution_count": 6,
   "metadata": {},
   "outputs": [
    {
     "name": "stdout",
     "output_type": "stream",
     "text": [
      "[<__main__.Circle object at 0x1107a8b20>, <__main__.Circle object at 0x1107ab340>]\n",
      "My name is  Sally and my color is  PURPLE\n",
      "My name is  Bill and my color is  RED\n",
      "['Name: Sally, Color: PURPLE, Area: 12.566370614359172', 'Name: Bill, Color: RED, Area: 28.274333882308138']\n"
     ]
    }
   ],
   "source": [
    "circle_list = [Circle(i) for i in range(2,4)]\n",
    "print(circle_list)\n",
    "\n",
    "for x in circle_list:\n",
    "    x.print_name()\n",
    "\n",
    "print([x.makeString() for x in circle_list])"
   ]
  },
  {
   "attachments": {},
   "cell_type": "markdown",
   "metadata": {},
   "source": [
    "Create an equilateral triangle subclass:"
   ]
  },
  {
   "cell_type": "code",
   "execution_count": 9,
   "metadata": {},
   "outputs": [],
   "source": [
    "class eqTriangle(Geom):\n",
    "    def __init__(self, side):\n",
    "        self.side = side\n",
    "        super().__init__()\n",
    "    def area(self):\n",
    "        # A = 0.5 * b * h = 0.5 * b * b * sqrt(3)\n",
    "        return (0.5 * self.side * (self.side * mth.sqrt(3)))"
   ]
  },
  {
   "attachments": {},
   "cell_type": "markdown",
   "metadata": {},
   "source": [
    "Now create an instance of an equilateral triangle:"
   ]
  },
  {
   "cell_type": "code",
   "execution_count": 10,
   "metadata": {},
   "outputs": [
    {
     "name": "stdout",
     "output_type": "stream",
     "text": [
      "My name is  Hussain and my color is  PURPLE\n",
      "My area is:  3.4641016151377544\n"
     ]
    }
   ],
   "source": [
    "side = 2\n",
    "myEqTriangle = eqTriangle(side)\n",
    "myEqTriangle.print_name()\n",
    "print('My area is: ', myEqTriangle.area())"
   ]
  },
  {
   "attachments": {},
   "cell_type": "markdown",
   "metadata": {},
   "source": [
    "Does a negative number break the code?"
   ]
  },
  {
   "cell_type": "code",
   "execution_count": 11,
   "metadata": {},
   "outputs": [
    {
     "name": "stdout",
     "output_type": "stream",
     "text": [
      "My name is  Hussain and my color is  PURPLE\n",
      "My area is:  3.4641016151377544\n"
     ]
    }
   ],
   "source": [
    "side = -2\n",
    "myEqTriangle = eqTriangle(side)\n",
    "myEqTriangle.print_name()\n",
    "print('My area is: ', myEqTriangle.area())\n"
   ]
  },
  {
   "attachments": {},
   "cell_type": "markdown",
   "metadata": {},
   "source": [
    "It doesn't. Modify the subclass to handle a non-positive length side:"
   ]
  },
  {
   "cell_type": "code",
   "execution_count": 20,
   "metadata": {},
   "outputs": [],
   "source": [
    "class eqTriangle(Geom):\n",
    "    def __init__(self, side):\n",
    "        self.side = side\n",
    "        super().__init__()\n",
    "    def area(self):\n",
    "        if side > 0:\n",
    "            return (0.5 * self.side * (self.side * mth.sqrt(3)))\n",
    "        else:\n",
    "            return (\"Please input a positive number to calculate area.\")"
   ]
  },
  {
   "cell_type": "code",
   "execution_count": 21,
   "metadata": {},
   "outputs": [
    {
     "name": "stdout",
     "output_type": "stream",
     "text": [
      "My name is  Josh and my color is  BLUE\n",
      "My area is:  Please input a positive number to calculate area.\n"
     ]
    }
   ],
   "source": [
    "side = -2\n",
    "myEqTriangle = eqTriangle(side)\n",
    "myEqTriangle.print_name()\n",
    "print('My area is: ', myEqTriangle.area())"
   ]
  },
  {
   "attachments": {},
   "cell_type": "markdown",
   "metadata": {},
   "source": [
    "Create a general triangle subclass definined by three pairs of coordinates:"
   ]
  },
  {
   "cell_type": "code",
   "execution_count": 22,
   "metadata": {},
   "outputs": [],
   "source": [
    "class coordTriangle(Geom):\n",
    "    def __init__(self, coordList):\n",
    "        self.x1 = coordList[0][0]\n",
    "        self.y1 = coordList[0][1]\n",
    "        self.x2 = coordList[1][0]\n",
    "        self.y2 = coordList[1][1]\n",
    "        self.x3 = coordList[2][0]\n",
    "        self.y3 = coordList[2][1]\n",
    "        super().__init__()\n",
    "    def area(self):\n",
    "        return abs(0.5*(((self.x3*self.y2)-(self.x2*self.y3))-((self.x3*self.y1)-(self.x1*self.y3))+((self.x2*self.y1)-(self.x1*self.y2))))\n",
    "    "
   ]
  },
  {
   "cell_type": "code",
   "execution_count": 23,
   "metadata": {},
   "outputs": [
    {
     "name": "stdout",
     "output_type": "stream",
     "text": [
      "My name is  Josh and my color is  RED\n",
      "My area is:  16.5\n"
     ]
    }
   ],
   "source": [
    "myList = [[-2,2], [6,-1], [1,5]]\n",
    "myTriangle = coordTriangle(myList)\n",
    "myTriangle.print_name()\n",
    "print('My area is: ', myTriangle.area())"
   ]
  },
  {
   "attachments": {},
   "cell_type": "markdown",
   "metadata": {},
   "source": [
    "Does rearranging the coordinate pairs produce the same result?"
   ]
  },
  {
   "cell_type": "code",
   "execution_count": 24,
   "metadata": {},
   "outputs": [
    {
     "name": "stdout",
     "output_type": "stream",
     "text": [
      "My name is  Lammar and my color is  RED\n",
      "My area is:  16.5\n"
     ]
    }
   ],
   "source": [
    "myList = [[6,-1], [1,5], [-2,2]]\n",
    "myTriangle = coordTriangle(myList)\n",
    "myTriangle.print_name()\n",
    "print('My area is: ', myTriangle.area())"
   ]
  },
  {
   "cell_type": "code",
   "execution_count": 25,
   "metadata": {},
   "outputs": [
    {
     "name": "stdout",
     "output_type": "stream",
     "text": [
      "My name is  Josh and my color is  RED\n",
      "My area is:  16.5\n"
     ]
    }
   ],
   "source": [
    "myList = [[1,5], [6,-1], [-2,2]]\n",
    "myTriangle = coordTriangle(myList)\n",
    "myTriangle.print_name()\n",
    "print('My area is: ', myTriangle.area())"
   ]
  },
  {
   "attachments": {},
   "cell_type": "markdown",
   "metadata": {},
   "source": [
    "With another set of coordinates:"
   ]
  },
  {
   "cell_type": "code",
   "execution_count": 26,
   "metadata": {},
   "outputs": [
    {
     "name": "stdout",
     "output_type": "stream",
     "text": [
      "My name is  Sally and my color is  RED\n",
      "My area is:  129.5\n"
     ]
    }
   ],
   "source": [
    "myList = [[-10, -10], [5, -8], [3,9]]\n",
    "myTriangle = coordTriangle(myList)\n",
    "myTriangle.print_name()\n",
    "print('My area is: ', myTriangle.area())"
   ]
  }
 ],
 "metadata": {
  "kernelspec": {
   "display_name": "Python 3",
   "language": "python",
   "name": "python3"
  },
  "language_info": {
   "codemirror_mode": {
    "name": "ipython",
    "version": 3
   },
   "file_extension": ".py",
   "mimetype": "text/x-python",
   "name": "python",
   "nbconvert_exporter": "python",
   "pygments_lexer": "ipython3",
   "version": "3.10.4"
  },
  "orig_nbformat": 4,
  "vscode": {
   "interpreter": {
    "hash": "aee8b7b246df8f9039afb4144a1f6fd8d2ca17a180786b69acc140d282b71a49"
   }
  }
 },
 "nbformat": 4,
 "nbformat_minor": 2
}
