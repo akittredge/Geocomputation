{
 "cells": [
  {
   "cell_type": "markdown",
   "metadata": {},
   "source": [
    "__Andrew Kittredge <br>\n",
    "GTECH 731 <br>\n",
    "Assignment 4__"
   ]
  },
  {
   "attachments": {},
   "cell_type": "markdown",
   "metadata": {},
   "source": [
    "__Task 2:__ Reorganize these classes as a package with multiple modules."
   ]
  },
  {
   "cell_type": "code",
   "execution_count": 1,
   "metadata": {},
   "outputs": [],
   "source": [
    "from akGeom import *"
   ]
  },
  {
   "attachments": {},
   "cell_type": "markdown",
   "metadata": {},
   "source": [
    "Create an instance of a square:"
   ]
  },
  {
   "cell_type": "code",
   "execution_count": 2,
   "metadata": {},
   "outputs": [
    {
     "name": "stdout",
     "output_type": "stream",
     "text": [
      "My name is  Tamica and my color is  PURPLE\n",
      "My area is:  64\n"
     ]
    }
   ],
   "source": [
    "side = 8\n",
    "mySquare = square.Square(side)\n",
    "mySquare.print_name()\n",
    "print('My area is: ', mySquare.area())"
   ]
  },
  {
   "attachments": {},
   "cell_type": "markdown",
   "metadata": {},
   "source": [
    "Create an instance of a circle:"
   ]
  },
  {
   "cell_type": "code",
   "execution_count": 3,
   "metadata": {},
   "outputs": [
    {
     "name": "stdout",
     "output_type": "stream",
     "text": [
      "My name is  Bill and my color is  BLUE\n",
      "My area is:  201.1\n"
     ]
    }
   ],
   "source": [
    "myCircle = circle.Circle(side)\n",
    "myCircle.print_name()\n",
    "print('My area is: ', round(myCircle.area(), 1))"
   ]
  },
  {
   "attachments": {},
   "cell_type": "markdown",
   "metadata": {},
   "source": [
    "Create an instance of an eqilateral triangle:"
   ]
  },
  {
   "cell_type": "code",
   "execution_count": 4,
   "metadata": {},
   "outputs": [
    {
     "name": "stdout",
     "output_type": "stream",
     "text": [
      "My name is  Sally and my color is  BLUE\n",
      "My area is:  55.4\n"
     ]
    }
   ],
   "source": [
    "myEqTri = eqTriangle.eqTriangle(side)\n",
    "myEqTri.print_name()\n",
    "print('My area is: ', round(myEqTri.area(), 1))"
   ]
  },
  {
   "attachments": {},
   "cell_type": "markdown",
   "metadata": {},
   "source": [
    "Try creating an equilateral triangle with a negative length side:"
   ]
  },
  {
   "cell_type": "code",
   "execution_count": 6,
   "metadata": {},
   "outputs": [
    {
     "name": "stdout",
     "output_type": "stream",
     "text": [
      "My area is:  Please input a positive number to calculate area.\n"
     ]
    }
   ],
   "source": [
    "myEqTri = eqTriangle.eqTriangle(-4)\n",
    "print('My area is: ', myEqTri.area())"
   ]
  },
  {
   "attachments": {},
   "cell_type": "markdown",
   "metadata": {},
   "source": [
    "Create an instance of a triangle defined by vertex coordinates:"
   ]
  },
  {
   "cell_type": "code",
   "execution_count": 8,
   "metadata": {},
   "outputs": [
    {
     "name": "stdout",
     "output_type": "stream",
     "text": [
      "My name is  Sally and my color is  RED\n",
      "My area is:  16.5\n"
     ]
    }
   ],
   "source": [
    "myList = [[-2,2], [6,-1], [1,5]]\n",
    "myTriangle = coordTriangle.coordTriangle(myList)\n",
    "myTriangle.print_name()\n",
    "print('My area is: ', myTriangle.area())"
   ]
  }
 ],
 "metadata": {
  "kernelspec": {
   "display_name": "Python 3",
   "language": "python",
   "name": "python3"
  },
  "language_info": {
   "codemirror_mode": {
    "name": "ipython",
    "version": 3
   },
   "file_extension": ".py",
   "mimetype": "text/x-python",
   "name": "python",
   "nbconvert_exporter": "python",
   "pygments_lexer": "ipython3",
   "version": "3.10.4"
  },
  "orig_nbformat": 4,
  "vscode": {
   "interpreter": {
    "hash": "aee8b7b246df8f9039afb4144a1f6fd8d2ca17a180786b69acc140d282b71a49"
   }
  }
 },
 "nbformat": 4,
 "nbformat_minor": 2
}
