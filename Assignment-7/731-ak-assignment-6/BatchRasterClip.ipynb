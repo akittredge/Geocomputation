{
 "cells": [
  {
   "cell_type": "markdown",
   "metadata": {},
   "source": [
    "**Andrew Kittredge**<br>\n",
    "**GTECH 731**<br>\n",
    "**Assignment 6**"
   ]
  },
  {
   "cell_type": "markdown",
   "metadata": {},
   "source": [
    "# Batch raster clipping using `arcpy`"
   ]
  },
  {
   "cell_type": "markdown",
   "metadata": {},
   "source": [
    "Import packages, set workspace to current project geodatabase:"
   ]
  },
  {
   "cell_type": "code",
   "execution_count": 65,
   "metadata": {},
   "outputs": [],
   "source": [
    "import os, fnmatch, arcpy\n",
    "aprx = arcpy.mp.ArcGISProject(\"Current\")\n",
    "arcpy.env.workspace = aprx.defaultGeodatabase"
   ]
  },
  {
   "cell_type": "markdown",
   "metadata": {},
   "source": [
    "Print the rasters present in a directory. These are summer Landsat scenes over New York City from 1984 - 1988."
   ]
  },
  {
   "cell_type": "code",
   "execution_count": 81,
   "metadata": {},
   "outputs": [
    {
     "name": "stdout",
     "output_type": "stream",
     "text": [
      "C:\\Users\\AndysWorld\\Desktop\\Landsat\\1985+\\LT05_L2SP_013032_19840610_20200918_02_T1\\LT05_L2SP_013032_19840610_20200918_02_T1_ST_B6\n",
      "C:\\Users\\AndysWorld\\Desktop\\Landsat\\1985+\\LT05_L2SP_013032_19880808_20200917_02_T1\\LT05_L2SP_013032_19880808_20200917_02_T1_ST_B6\n",
      "C:\\Users\\AndysWorld\\Desktop\\Landsat\\1985+\\LT05_L2SP_013032_19890726_20200916_02_T1\\LT05_L2SP_013032_19890726_20200916_02_T1_ST_B6\n",
      "C:\\Users\\AndysWorld\\Desktop\\Landsat\\1985+\\LT05_L2SP_014032_19840703_20200918_02_T1\\LT05_L2SP_014032_19840703_20200918_02_T1_ST_B6\n",
      "C:\\Users\\AndysWorld\\Desktop\\Landsat\\1985+\\LT05_L2SP_014032_19840719_20200918_02_T2\\LT05_L2SP_014032_19840719_20200918_02_T2_ST_B6\n",
      "C:\\Users\\AndysWorld\\Desktop\\Landsat\\1985+\\LT05_L2SP_014032_19860810_20200917_02_T1\\LT05_L2SP_014032_19860810_20200917_02_T1_ST_B6\n",
      "C:\\Users\\AndysWorld\\Desktop\\Landsat\\1985+\\LT05_L2SP_014032_19870728_20201014_02_T1\\LT05_L2SP_014032_19870728_20201014_02_T1_ST_B6\n",
      "C:\\Users\\AndysWorld\\Desktop\\Landsat\\1985+\\LT05_L2SP_014032_19880730_20200917_02_T1\\LT05_L2SP_014032_19880730_20200917_02_T1_ST_B6\n",
      "C:\\Users\\AndysWorld\\Desktop\\Landsat\\1985+\\LT05_L2SP_014032_19880815_20200917_02_T1\\LT05_L2SP_014032_19880815_20200917_02_T1_ST_B6\n"
     ]
    }
   ],
   "source": [
    "rasterPath = r'C:\\Users\\AndysWorld\\Desktop\\Landsat\\1985+'\n",
    "\n",
    "for root, dirs, files in os.walk(rasterPath, topdown=True):\n",
    "    for name in fnmatch.filter(files, \"*.tif\"):\n",
    "        print(os.path.join(root, os.path.splitext(name)[0]))"
   ]
  },
  {
   "cell_type": "markdown",
   "metadata": {},
   "source": [
    "`arcpy.management.Clip()` is used to clip the rasters using a shapefile of New York City county land boundaries. A for loop is used to create a save file path and file name for each raster. "
   ]
  },
  {
   "cell_type": "code",
   "execution_count": 82,
   "metadata": {},
   "outputs": [],
   "source": [
    "nycLandMask = r'Z:\\Windows\\731-ak-assignment-6\\nyc_counties\\nyc_counties.shp'\n",
    "outFolder = r'Z:\\Windows\\731-ak-assignment-6\\clipped_rasters'\n",
    "\n",
    "for root, dirs, files in os.walk(rasterPath, topdown=True):\n",
    "    for name in fnmatch.filter(files, \"*.tif\"):\n",
    "        outRaster = os.path.join(outFolder, name) + '.tif'\n",
    "        # arcpy.management.Clip(in_raster, rectangle, out_raster, {in_template_dataset}, {nodata_value}, {clipping_geometry}, {maintain_clipping_extent})\n",
    "        arcpy.management.Clip(os.path.join(root, name),'#',outRaster, nycLandMask, '#', 'ClippingGeometry')"
   ]
  },
  {
   "cell_type": "markdown",
   "metadata": {},
   "source": [
    "The resulting clipped rasters:"
   ]
  },
  {
   "cell_type": "code",
   "execution_count": 84,
   "metadata": {},
   "outputs": [
    {
     "name": "stdout",
     "output_type": "stream",
     "text": [
      "Z:\\Windows\\731-ak-assignment-6\\clipped_rasters\\LT05_L2SP_014032_19870728_20201014_02_T1_ST_B6.TIF\n",
      "Z:\\Windows\\731-ak-assignment-6\\clipped_rasters\\LT05_L2SP_014032_19840703_20200918_02_T1_ST_B6.TIF\n",
      "Z:\\Windows\\731-ak-assignment-6\\clipped_rasters\\LT05_L2SP_014032_19860810_20200917_02_T1_ST_B6.TIF\n",
      "Z:\\Windows\\731-ak-assignment-6\\clipped_rasters\\LT05_L2SP_013032_19890726_20200916_02_T1_ST_B6.TIF\n",
      "Z:\\Windows\\731-ak-assignment-6\\clipped_rasters\\LT05_L2SP_013032_19840610_20200918_02_T1_ST_B6.TIF\n",
      "Z:\\Windows\\731-ak-assignment-6\\clipped_rasters\\LT05_L2SP_013032_19880808_20200917_02_T1_ST_B6.TIF\n",
      "Z:\\Windows\\731-ak-assignment-6\\clipped_rasters\\LT05_L2SP_014032_19880815_20200917_02_T1_ST_B6.TIF\n",
      "Z:\\Windows\\731-ak-assignment-6\\clipped_rasters\\LT05_L2SP_014032_19880730_20200917_02_T1_ST_B6.TIF\n",
      "Z:\\Windows\\731-ak-assignment-6\\clipped_rasters\\LT05_L2SP_014032_19840719_20200918_02_T2_ST_B6.TIF\n"
     ]
    }
   ],
   "source": [
    "for root, dirs, files in os.walk(outFolder, topdown=True):\n",
    "    for name in fnmatch.filter(files, \"*.tif\"):\n",
    "        print(os.path.join(root, os.path.splitext(name)[0]))"
   ]
  },
  {
   "cell_type": "markdown",
   "metadata": {},
   "source": [
    "Unlike the example provided in lecture, using `arcpy.ListRasters()` as an input to `arcpy.management.Clip()` as it does not work with rasters loaded into layer files:"
   ]
  },
  {
   "cell_type": "code",
   "execution_count": 85,
   "metadata": {},
   "outputs": [
    {
     "data": {
      "text/plain": [
       "[]"
      ]
     },
     "execution_count": 85,
     "metadata": {},
     "output_type": "execute_result"
    }
   ],
   "source": [
    "for root, dirs, files in os.walk(rootPath, topdown=True):\n",
    "    for name in fnmatch.filter(files, \"*.tif\"):\n",
    "        arcpy.management.MakeRasterLayer(os.path.join(root, name), os.path.splitext(name)[0],\"#\", \"nyc_counties/nyc_counties.shp\")\n",
    "        \n",
    "arcpy.ListRasters()"
   ]
  },
  {
   "cell_type": "markdown",
   "metadata": {},
   "source": [
    "Condensed script for toolbox:"
   ]
  },
  {
   "cell_type": "code",
   "execution_count": null,
   "metadata": {},
   "outputs": [],
   "source": [
    "import os, fnmatch, arcpy\n",
    "def batchRasterClip(inputFolder, outputFolder, clipShp):\n",
    "    aprx = arcpy.mp.ArcGISProject(\"Current\")\n",
    "    arcpy.env.workspace = aprx.defaultGeodatabase\n",
    "    \n",
    "    for root, dirs, files in os.walk(inputFolder, topdown=True):\n",
    "        for name in fnmatch.filter(files, \"*.tif\"):\n",
    "            outRaster = os.path.join(outputFolder, name) + '.tif'\n",
    "            # arcpy.management.Clip(in_raster, rectangle, out_raster, {in_template_dataset}, {nodata_value}, {clipping_geometry}, {maintain_clipping_extent})\n",
    "            arcpy.management.Clip(os.path.join(root, name),'#',outRaster, clipShp, '#', 'ClippingGeometry')\n",
    "    "
   ]
  }
 ],
 "metadata": {
  "kernelspec": {
   "display_name": "ArcGISPro",
   "language": "Python",
   "name": "python3"
  },
  "language_info": {
   "file_extension": ".py",
   "name": "python",
   "version": "3"
  }
 },
 "nbformat": 4,
 "nbformat_minor": 2
}
